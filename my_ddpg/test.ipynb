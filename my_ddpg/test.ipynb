{
 "cells": [
  {
   "cell_type": "code",
   "execution_count": 65,
   "metadata": {},
   "outputs": [],
   "source": [
    "import torch\n",
    "import torch.nn as nn\n",
    "import torch.nn.functional as F\n",
    "import gymnasium as gym"
   ]
  },
  {
   "cell_type": "code",
   "execution_count": 2,
   "metadata": {},
   "outputs": [],
   "source": [
    "env = gym.make(\"Pendulum-v1\")"
   ]
  },
  {
   "cell_type": "code",
   "execution_count": 45,
   "metadata": {},
   "outputs": [],
   "source": [
    "obs, info = env.reset()\n",
    "obs, reward, truncated, terminated, info = env.step([1.0])\n",
    "obs = torch.tensor(obs)\n",
    "\n",
    "actor = Actor(env)\n",
    "critic = Critic(env)\n",
    "\n",
    "action = actor(obs)\n",
    "value = critic(obs, action)\n"
   ]
  },
  {
   "cell_type": "code",
   "execution_count": 15,
   "metadata": {},
   "outputs": [
    {
     "name": "stdout",
     "output_type": "stream",
     "text": [
      "torch.Size([32, 1]) torch.Size([32, 400])\n"
     ]
    },
    {
     "data": {
      "text/plain": [
       "torch.Size([32, 401])"
      ]
     },
     "execution_count": 15,
     "metadata": {},
     "output_type": "execute_result"
    }
   ],
   "source": [
    "a = torch.rand(32).unsqueeze(1)\n",
    "action = torch.rand(32, 400)\n",
    "# torch.cat((a, action)).shape\n",
    "print(a.shape, action.shape)\n",
    "torch.cat((a, action), dim=1).shape\n"
   ]
  },
  {
   "cell_type": "code",
   "execution_count": 75,
   "metadata": {},
   "outputs": [
    {
     "name": "stdout",
     "output_type": "stream",
     "text": [
      "torch.Size([64])\n",
      "torch.Size([64, 1])\n"
     ]
    },
    {
     "data": {
      "text/plain": [
       "torch.Size([64, 64])"
      ]
     },
     "execution_count": 75,
     "metadata": {},
     "output_type": "execute_result"
    }
   ],
   "source": [
    "a = torch.ones(64)\n",
    "print(a.shape)\n",
    "b = torch.ones(64, 1)\n",
    "print(b.shape)\n",
    "c = b.mul(a)\n",
    "c.shape"
   ]
  },
  {
   "cell_type": "code",
   "execution_count": null,
   "metadata": {},
   "outputs": [],
   "source": []
  },
  {
   "cell_type": "code",
   "execution_count": null,
   "metadata": {},
   "outputs": [],
   "source": []
  },
  {
   "cell_type": "code",
   "execution_count": null,
   "metadata": {},
   "outputs": [],
   "source": []
  },
  {
   "cell_type": "code",
   "execution_count": 4,
   "metadata": {},
   "outputs": [],
   "source": [
    "class Actor(nn.Module):\n",
    "    def __init__(self, env=None, input_dim=None, output_dim=None):\n",
    "        super().__init__()\n",
    "        input_dim = input_dim or env.observation_space.shape[0]\n",
    "        output_dim = output_dim or env.action_space.shape[0]\n",
    "        self.act_min = env.action_space.low[0]\n",
    "        self.act_max = env.action_space.high[0]\n",
    "        \n",
    "        self.l1 = nn.Linear(input_dim, 400)\n",
    "        self.l2 = nn.Linear(400, 300)\n",
    "        self.l3 = nn.Linear(300, output_dim)\n",
    "        \n",
    "        nn.init.orthogonal_(self.l1.weight)\n",
    "        nn.init.orthogonal_(self.l2.weight)\n",
    "        nn.init.orthogonal_(self.l3.weight)\n",
    "                \n",
    "    def forward(self, x):\n",
    "        a = F.relu(self.l1(x))\n",
    "        a = F.relu(self.l2(a))\n",
    "        a = F.tanh(self.l3(a))\n",
    "        \n",
    "        # Scale the action\n",
    "        a = self.act_max * (1+a)/2 + self.act_min * (1-a)/2\n",
    "        return a"
   ]
  },
  {
   "cell_type": "code",
   "execution_count": 34,
   "metadata": {},
   "outputs": [],
   "source": [
    "class Critic(nn.Module):\n",
    "    def __init__(self, env=None, state_dim=None, action_dim=None):\n",
    "        super().__init__()\n",
    "        state_dim = state_dim or env.observation_space.shape[0]\n",
    "        action_dim = action_dim or env.action_space.shape[0]\n",
    "        self.act_min = env.action_space.low[0]\n",
    "        self.act_max = env.action_space.high[0]\n",
    "        \n",
    "        self.l1 = nn.Linear(state_dim, 400)\n",
    "        self.l2 = nn.Linear(400+action_dim, 300)\n",
    "        self.l3 = nn.Linear(300, 1)\n",
    "        \n",
    "        nn.init.orthogonal_(self.l1.weight)\n",
    "        nn.init.orthogonal_(self.l2.weight)\n",
    "        nn.init.orthogonal_(self.l3.weight)\n",
    "                \n",
    "    def forward(self, obs, action):\n",
    "        a = F.relu(self.l1(obs))\n",
    "        a = torch.cat((a, action))\n",
    "        a = F.relu(self.l2(a))\n",
    "        a = self.l3(a)\n",
    "        return a"
   ]
  }
 ],
 "metadata": {
  "kernelspec": {
   "display_name": "Python 3",
   "language": "python",
   "name": "python3"
  },
  "language_info": {
   "codemirror_mode": {
    "name": "ipython",
    "version": 3
   },
   "file_extension": ".py",
   "mimetype": "text/x-python",
   "name": "python",
   "nbconvert_exporter": "python",
   "pygments_lexer": "ipython3",
   "version": "3.11.3"
  },
  "orig_nbformat": 4
 },
 "nbformat": 4,
 "nbformat_minor": 2
}
