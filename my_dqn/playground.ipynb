{
 "cells": [
  {
   "cell_type": "code",
   "execution_count": 1,
   "metadata": {},
   "outputs": [],
   "source": [
    "import gymnasium as gym\n",
    "from gymnasium.wrappers import GrayScaleObservation, TransformObservation\n",
    "from gymnasium.wrappers import FrameStack, FlattenObservation, ResizeObservation\n",
    "\n",
    "import matplotlib.pyplot as plt\n",
    "import numpy as np\n",
    "\n",
    "import torch\n",
    "import torch.nn.functional as F\n",
    "from torch.utils.tensorboard import SummaryWriter\n",
    "from torch import nn\n",
    "\n",
    "from collections import deque\n",
    "from tqdm import tqdm"
   ]
  },
  {
   "cell_type": "code",
   "execution_count": 2,
   "metadata": {},
   "outputs": [],
   "source": [
    "class ReplayBuffer:\n",
    "    def __init__(self, length=10000, batch_size = 32, device=None):\n",
    "        self.mem = deque(maxlen=length)\n",
    "        self.length = length\n",
    "        self.batch_size = [batch_size]\n",
    "        self.device = device if device else torch.device(\"cpu\")\n",
    "    \n",
    "    def store(self, s, a, r, s_, d):\n",
    "        self.mem.append([s, a, r, s_, d])\n",
    "    \n",
    "    def sample(self):\n",
    "        idxs = torch.randint(high=len(self), size=self.batch_size)\n",
    "        batch = [self.mem[idx] for idx in idxs]\n",
    "        return map(torch.Tensor, list(zip(*batch)))\n",
    "        \n",
    "    def __len__(self):\n",
    "        return len(self.mem)"
   ]
  },
  {
   "cell_type": "code",
   "execution_count": null,
   "metadata": {},
   "outputs": [],
   "source": [
    "env = gym.make(\"ALE/Pong-v5\")\n",
    "env = GrayScaleObservation(env)\n",
    "env = ResizeObservation(env, 64)\n",
    "env = FrameStack(env, 3)\n",
    "env = FlattenObservation(env)\n",
    "env = TransformObservation(env, lambda obs: obs / 255.0)"
   ]
  },
  {
   "cell_type": "code",
   "execution_count": 3,
   "metadata": {},
   "outputs": [],
   "source": [
    "env = gym.make(\"CartPole-v1\")\n",
    "# env = FrameStack(env, 3)\n",
    "env = FlattenObservation(env)"
   ]
  },
  {
   "cell_type": "code",
   "execution_count": null,
   "metadata": {},
   "outputs": [],
   "source": [
    "env = gym.make(\"FrozenLake-v1\")"
   ]
  },
  {
   "cell_type": "code",
   "execution_count": 4,
   "metadata": {},
   "outputs": [],
   "source": [
    "input_dim = env.observation_space.shape[0]\n",
    "output_dim = env.action_space.n\n",
    "\n",
    "model = nn.Sequential(\n",
    "    nn.Linear(input_dim, 64), nn.ReLU(),\n",
    "    nn.Linear(64, 64), nn.ReLU(),\n",
    "    nn.Linear(64, output_dim)\n",
    ")\n",
    "\n",
    "loss_fn = nn.MSELoss()\n",
    "optimizer = torch.optim.Adam(model.parameters(), lr=1e-4)"
   ]
  },
  {
   "cell_type": "code",
   "execution_count": 5,
   "metadata": {},
   "outputs": [],
   "source": [
    "batch_size = 256\n",
    "n_steps = 1\n",
    "epsilon = 0.1\n",
    "gamma = 0.99\n",
    "max_episodes = 10000\n",
    "step = 0\n",
    "\n",
    "rb = ReplayBuffer(length=1000000, batch_size=batch_size)\n",
    "writer = SummaryWriter()"
   ]
  },
  {
   "cell_type": "code",
   "execution_count": 9,
   "metadata": {},
   "outputs": [
    {
     "name": "stderr",
     "output_type": "stream",
     "text": [
      " 49%|████▉     | 49160/100000 [10:29:48<10:51:19,  1.30it/s]    \n"
     ]
    },
    {
     "ename": "KeyboardInterrupt",
     "evalue": "",
     "output_type": "error",
     "traceback": [
      "\u001b[0;31m---------------------------------------------------------------------------\u001b[0m",
      "\u001b[0;31mKeyboardInterrupt\u001b[0m                         Traceback (most recent call last)",
      "Cell \u001b[0;32mIn[9], line 20\u001b[0m\n\u001b[1;32m     17\u001b[0m obs \u001b[39m=\u001b[39m obs_\n\u001b[1;32m     19\u001b[0m \u001b[39mif\u001b[39;00m step \u001b[39m%\u001b[39m n_steps \u001b[39m==\u001b[39m \u001b[39m0\u001b[39m:      \n\u001b[0;32m---> 20\u001b[0m     s, a, r, s_, d \u001b[39m=\u001b[39m rb\u001b[39m.\u001b[39;49msample()\n\u001b[1;32m     21\u001b[0m     qs \u001b[39m=\u001b[39m model\u001b[39m.\u001b[39mforward(s)\n\u001b[1;32m     22\u001b[0m     qs_ \u001b[39m=\u001b[39m model\u001b[39m.\u001b[39mforward(s_)\n",
      "Cell \u001b[0;32mIn[2], line 13\u001b[0m, in \u001b[0;36mReplayBuffer.sample\u001b[0;34m(self)\u001b[0m\n\u001b[1;32m     11\u001b[0m \u001b[39mdef\u001b[39;00m \u001b[39msample\u001b[39m(\u001b[39mself\u001b[39m):\n\u001b[1;32m     12\u001b[0m     idxs \u001b[39m=\u001b[39m torch\u001b[39m.\u001b[39mrandint(high\u001b[39m=\u001b[39m\u001b[39mlen\u001b[39m(\u001b[39mself\u001b[39m), size\u001b[39m=\u001b[39m\u001b[39mself\u001b[39m\u001b[39m.\u001b[39mbatch_size)\n\u001b[0;32m---> 13\u001b[0m     batch \u001b[39m=\u001b[39m [\u001b[39mself\u001b[39;49m\u001b[39m.\u001b[39;49mmem[idx] \u001b[39mfor\u001b[39;49;00m idx \u001b[39min\u001b[39;49;00m idxs]\n\u001b[1;32m     14\u001b[0m     \u001b[39mreturn\u001b[39;00m \u001b[39mmap\u001b[39m(torch\u001b[39m.\u001b[39mTensor, \u001b[39mlist\u001b[39m(\u001b[39mzip\u001b[39m(\u001b[39m*\u001b[39mbatch)))\n",
      "Cell \u001b[0;32mIn[2], line 13\u001b[0m, in \u001b[0;36m<listcomp>\u001b[0;34m(.0)\u001b[0m\n\u001b[1;32m     11\u001b[0m \u001b[39mdef\u001b[39;00m \u001b[39msample\u001b[39m(\u001b[39mself\u001b[39m):\n\u001b[1;32m     12\u001b[0m     idxs \u001b[39m=\u001b[39m torch\u001b[39m.\u001b[39mrandint(high\u001b[39m=\u001b[39m\u001b[39mlen\u001b[39m(\u001b[39mself\u001b[39m), size\u001b[39m=\u001b[39m\u001b[39mself\u001b[39m\u001b[39m.\u001b[39mbatch_size)\n\u001b[0;32m---> 13\u001b[0m     batch \u001b[39m=\u001b[39m [\u001b[39mself\u001b[39m\u001b[39m.\u001b[39mmem[idx] \u001b[39mfor\u001b[39;00m idx \u001b[39min\u001b[39;00m idxs]\n\u001b[1;32m     14\u001b[0m     \u001b[39mreturn\u001b[39;00m \u001b[39mmap\u001b[39m(torch\u001b[39m.\u001b[39mTensor, \u001b[39mlist\u001b[39m(\u001b[39mzip\u001b[39m(\u001b[39m*\u001b[39mbatch)))\n",
      "\u001b[0;31mKeyboardInterrupt\u001b[0m: "
     ]
    }
   ],
   "source": [
    "max_episodes = 100000\n",
    "for episode in tqdm(range(max_episodes)):\n",
    "    obs, info = env.reset()\n",
    "    done = False\n",
    "    \n",
    "    ep_len = 0\n",
    "    ep_loss = []\n",
    "    ep_reward = 0.0\n",
    "    \n",
    "    while not done:\n",
    "        step += 1\n",
    "        best_act = torch.argmax(model.forward(torch.tensor(obs)))\n",
    "        action = env.action_space.sample() if (torch.rand(1) < epsilon) else best_act.item()\n",
    "        obs_, reward, terminated, truncated, info = env.step(action)\n",
    "        done = terminated or truncated\n",
    "        rb.store(obs, action, reward, obs_, done)\n",
    "        obs = obs_\n",
    "        \n",
    "        if step % n_steps == 0:      \n",
    "            s, a, r, s_, d = rb.sample()\n",
    "            qs = model.forward(s)\n",
    "            qs_ = model.forward(s_)\n",
    "            qs_max = torch.max(qs_, dim=1)[0]\n",
    "            target = r * d + gamma * qs_max * (1 - d)\n",
    "            actual = qs[range(batch_size), a.tolist()]\n",
    "\n",
    "            loss = loss_fn(actual, target)\n",
    "            optimizer.zero_grad()\n",
    "            loss.backward()\n",
    "            optimizer.step()\n",
    "            \n",
    "        ep_len += 1\n",
    "        ep_loss.append(loss.item())\n",
    "        ep_reward += reward\n",
    "        \n",
    "    writer.add_scalar('Train/length', np.mean(ep_len), step)\n",
    "    writer.add_scalar('Train/loss', np.mean(ep_loss), step)\n",
    "    writer.add_scalar('Train/reward', ep_reward, step)"
   ]
  },
  {
   "cell_type": "code",
   "execution_count": null,
   "metadata": {},
   "outputs": [],
   "source": [
    "for episode in tqdm(range(max_episodes)):\n",
    "    obs, info = env.reset()\n",
    "    done = False\n",
    "    \n",
    "    while not done:\n",
    "        step += 1\n",
    "        with torch.no_grad():\n",
    "            best_act = torch.argmax(model.forward(torch.tensor(obs)))\n",
    "            action = env.action_space.sample() if (torch.rand(1) < epsilon) else best_act.item()\n",
    "            obs_, reward, terminated, truncated, info = env.step(action)\n",
    "            done = terminated or truncated\n",
    "        \n",
    "        env.render()"
   ]
  },
  {
   "cell_type": "code",
   "execution_count": null,
   "metadata": {},
   "outputs": [],
   "source": [
    "# s, a, r, s_, d = list(rb.sample())\n",
    "s, a, r, s_, d = map(torch.tensor, list(rb.sample()))\n",
    "\n",
    "d.shape\n",
    "type(s)\n",
    "# torch.tensor(s_).shape"
   ]
  },
  {
   "cell_type": "code",
   "execution_count": null,
   "metadata": {},
   "outputs": [],
   "source": [
    "t = torch.tensor([1.0, 2.0, 3.0])\n",
    "b = torch.tensor([False, False, True])\n",
    "b2 = torch.tensor([10.0, 11.0, 12.0])\n",
    "t * b + b2"
   ]
  },
  {
   "cell_type": "code",
   "execution_count": null,
   "metadata": {},
   "outputs": [],
   "source": [
    "dd = [[1.0, 1.5], [2.0, 2.5]]\n",
    "# list(zip(*dd))\n",
    "\n",
    "ddd = [[1.0, 1.5], [2.0, 2.5]]\n",
    "ss = list(map(torch.tensor, ddd[0]))\n",
    "ss"
   ]
  }
 ],
 "metadata": {
  "kernelspec": {
   "display_name": "Python 3",
   "language": "python",
   "name": "python3"
  },
  "language_info": {
   "codemirror_mode": {
    "name": "ipython",
    "version": 3
   },
   "file_extension": ".py",
   "mimetype": "text/x-python",
   "name": "python",
   "nbconvert_exporter": "python",
   "pygments_lexer": "ipython3",
   "version": "3.11.3"
  },
  "orig_nbformat": 4
 },
 "nbformat": 4,
 "nbformat_minor": 2
}
