{
 "cells": [
  {
   "cell_type": "code",
   "execution_count": 1,
   "metadata": {},
   "outputs": [],
   "source": [
    "import torch \n",
    "import torch.nn as nn\n",
    "import torch.nn.functional as F\n",
    "from torch.distributions.categorical import Categorical\n",
    "import gymnasium as gym\n",
    "import matplotlib.pyplot as plt\n",
    "from tqdm import tqdm"
   ]
  },
  {
   "cell_type": "code",
   "execution_count": 2,
   "metadata": {},
   "outputs": [],
   "source": [
    "class Policy(nn.Module):\n",
    "    def __init__(self, env=None):\n",
    "        super().__init__()\n",
    "        self.input_dim = env.observation_space.n\n",
    "        self.output_dim = env.action_space.n\n",
    "        \n",
    "        self.l1 = nn.Linear(self.input_dim, 400)\n",
    "        self.l2 = nn.Linear(400, 300)\n",
    "        self.l3 = nn.Linear(300, self.output_dim)\n",
    "\n",
    "    def forward(self, x):\n",
    "        x = F.one_hot(x.to(int), self.input_dim).to(torch.float32)\n",
    "        a = F.relu(self.l1(x))\n",
    "        a = F.relu(self.l2(a))\n",
    "        a = self.l3(a)\n",
    "        a = Categorical(logits=a)\n",
    "        return a"
   ]
  },
  {
   "cell_type": "code",
   "execution_count": 3,
   "metadata": {},
   "outputs": [],
   "source": [
    "# env = gym.make(\"FrozenLake-v1\", is_slippery=False)\n",
    "# env = gym.make(\"Taxi-v3\")\n",
    "env = gym.make(\"CliffWalking-v0\")\n",
    "\n",
    "policy = Policy(env)\n",
    "optimizer = torch.optim.Adam(policy.parameters())\n",
    "\n",
    "gamma = 0.99\n",
    "batch_size = 16\n",
    "loss = 0.0"
   ]
  },
  {
   "cell_type": "code",
   "execution_count": 4,
   "metadata": {},
   "outputs": [
    {
     "name": "stderr",
     "output_type": "stream",
     "text": [
      " 17%|█▋        | 17/100 [01:41<14:43, 10.64s/it]"
     ]
    },
    {
     "name": "stdout",
     "output_type": "stream",
     "text": [
      "-1170.18215328294\n"
     ]
    },
    {
     "name": "stderr",
     "output_type": "stream",
     "text": [
      " 33%|███▎      | 33/100 [04:57<30:31, 27.33s/it]"
     ]
    },
    {
     "name": "stdout",
     "output_type": "stream",
     "text": [
      "-861.1470778078497\n"
     ]
    },
    {
     "name": "stderr",
     "output_type": "stream",
     "text": [
      " 49%|████▉     | 49/100 [07:01<14:19, 16.85s/it]"
     ]
    },
    {
     "name": "stdout",
     "output_type": "stream",
     "text": [
      "-657.1967618042889\n"
     ]
    },
    {
     "name": "stderr",
     "output_type": "stream",
     "text": [
      " 65%|██████▌   | 65/100 [09:35<14:07, 24.22s/it]"
     ]
    },
    {
     "name": "stdout",
     "output_type": "stream",
     "text": [
      "-636.5534843312034\n"
     ]
    },
    {
     "name": "stderr",
     "output_type": "stream",
     "text": [
      " 81%|████████  | 81/100 [13:59<11:23, 35.99s/it]"
     ]
    },
    {
     "name": "stdout",
     "output_type": "stream",
     "text": [
      "-446.8408429941061\n"
     ]
    },
    {
     "name": "stderr",
     "output_type": "stream",
     "text": [
      " 91%|█████████ | 91/100 [16:55<02:32, 16.90s/it]"
     ]
    }
   ],
   "source": [
    "rews = []\n",
    "for episode in tqdm(range(100)):\n",
    "    m_obs = []\n",
    "    m_act = []\n",
    "    m_rew = []\n",
    "    \n",
    "    obs, _ = env.reset()\n",
    "    done = False\n",
    "    \n",
    "    while not done:\n",
    "        p = policy(torch.tensor(obs))\n",
    "        action = p.sample()\n",
    "        m_obs.append(obs)\n",
    "    \n",
    "        obs, reward, terminated, truncated, _ = env.step(action.detach().item())\n",
    "        done = terminated or truncated\n",
    "    \n",
    "        m_act.append(action.item())\n",
    "        m_rew.append(reward)\n",
    "    \n",
    "    # Policy update    \n",
    "    m_obs = torch.tensor(m_obs).unsqueeze(1)\n",
    "    m_act = torch.tensor(m_act)\n",
    "    \n",
    "    G = 0\n",
    "    disc_rew = []\n",
    "    for reward in reversed(m_rew):\n",
    "        G = reward + gamma * G\n",
    "        disc_rew.insert(0, G)\n",
    "    \n",
    "    rews.append(G)\n",
    "    \n",
    "    for obs_, act_, rew_ in zip(m_obs, m_act, disc_rew):\n",
    "        log_prob = policy(obs_).log_prob(act_)\n",
    "        loss -= log_prob * rew_\n",
    "    \n",
    "    if episode % batch_size == 0 and episode != 0:    \n",
    "        optimizer.zero_grad()\n",
    "        loss.backward()\n",
    "        optimizer.step()\n",
    "        loss = 0.0\n",
    "        \n",
    "        print(sum(rews) / batch_size)\n",
    "        rews = []"
   ]
  },
  {
   "cell_type": "code",
   "execution_count": null,
   "metadata": {},
   "outputs": [
    {
     "name": "stdout",
     "output_type": "stream",
     "text": [
      "tensor([[0.0114, 0.9434, 0.0315, 0.0136]])\n",
      "tensor(1)\n"
     ]
    },
    {
     "data": {
      "image/png": "[encoded data removed]",
      "text/plain": [
       "<Figure size 640x480 with 1 Axes>"
      ]
     },
     "metadata": {},
     "output_type": "display_data"
    }
   ],
   "source": [
    "with torch.no_grad():\n",
    "    a = policy(torch.Tensor([4]))\n",
    "    print(a.probs)\n",
    "    print(a.probs.argmax())\n",
    "\n",
    "plt.bar(x=range(4), height=a.probs[0].detach().numpy())\n",
    "plt.show()"
   ]
  }
 ],
 "metadata": {
  "kernelspec": {
   "display_name": "Python 3",
   "language": "python",
   "name": "python3"
  },
  "language_info": {
   "codemirror_mode": {
    "name": "ipython",
    "version": 3
   },
   "file_extension": ".py",
   "mimetype": "text/x-python",
   "name": "python",
   "nbconvert_exporter": "python",
   "pygments_lexer": "ipython3",
   "version": "3.11.4"
  },
  "orig_nbformat": 4
 },
 "nbformat": 4,
 "nbformat_minor": 2
}
