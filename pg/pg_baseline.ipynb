{
 "cells": [
  {
   "cell_type": "markdown",
   "metadata": {},
   "source": [
    "This is a Policy Gradient implementation:\n",
    "* Baseline for the advantage estimation is state value, given by the separately optimized value network.\n",
    "* Entropy term added for improved exploration"
   ]
  },
  {
   "cell_type": "code",
   "execution_count": null,
   "metadata": {},
   "outputs": [],
   "source": [
    "import torch \n",
    "import torch.nn as nn\n",
    "import torch.nn.functional as F\n",
    "from torch.distributions.categorical import Categorical\n",
    "\n",
    "import gymnasium as gym\n",
    "\n",
    "import matplotlib.pyplot as plt\n",
    "from tqdm import tqdm\n",
    "import numpy as np"
   ]
  },
  {
   "cell_type": "code",
   "execution_count": 2,
   "metadata": {},
   "outputs": [],
   "source": [
    "class Policy(nn.Module):\n",
    "    def __init__(self, env=None):\n",
    "        super().__init__()\n",
    "        # self.input_dim = env.observation_space.n                      # for Discrete obs spaces\n",
    "        self.input_dim = env.observation_space.shape[0]                 # for Box obs spaces\n",
    "        self.output_dim = env.action_space.n\n",
    "        \n",
    "        self.l1 = nn.Linear(self.input_dim, 400)\n",
    "        self.l2 = nn.Linear(400, 300)\n",
    "        self.l3 = nn.Linear(300, self.output_dim)\n",
    "\n",
    "    def forward(self, x):\n",
    "        # x = F.one_hot(x.to(int), self.input_dim).to(torch.float32)    # for Discrete obs spaces\n",
    "        a = F.relu(self.l1(x))\n",
    "        a = F.relu(self.l2(a))\n",
    "        a = self.l3(a)\n",
    "        a = Categorical(logits=a)\n",
    "        return a\n",
    "\n",
    "\n",
    "class Value(nn.Module):\n",
    "    def __init__(self, env=None):\n",
    "        super().__init__()\n",
    "        # self.input_dim = env.observation_space.n                      # for Discrete obs spaces\n",
    "        self.input_dim = env.observation_space.shape[0]                 # for Box obs spaces\n",
    "        \n",
    "        self.l1 = nn.Linear(self.input_dim, 64)\n",
    "        self.l2 = nn.Linear(64, 64)\n",
    "        self.l3 = nn.Linear(64, 1)\n",
    "\n",
    "    def forward(self, x):\n",
    "        # x = F.one_hot(x.to(int), self.input_dim).to(torch.float32)    # For Discrete obs spaces\n",
    "        x = F.relu(self.l1(x))\n",
    "        x = F.relu(self.l2(x))\n",
    "        x = self.l3(x)\n",
    "        return x.squeeze()"
   ]
  },
  {
   "cell_type": "code",
   "execution_count": 3,
   "metadata": {},
   "outputs": [],
   "source": [
    "# env = gym.make(\"FrozenLake-v1\", is_slippery=False)        # Discrete obs space\n",
    "# env = gym.make(\"Taxi-v3\")                                 # Discrete obs space\n",
    "# env = gym.make(\"CliffWalking-v0\")                         # Discrete obs space\n",
    "env = gym.make(\"CartPole-v1\")                               # Box obs space\n",
    "\n",
    "policy = Policy(env)\n",
    "value = Value(env)\n",
    "optimizer_p = torch.optim.Adam(policy.parameters(), lr=0.0003)\n",
    "optimizer_v = torch.optim.Adam(value.parameters(), lr=0.0003)\n",
    "\n",
    "gamma = 0.99\n",
    "batch_size = 32     # For both value and policy update\n",
    "rews_log = []\n",
    "rews_ep = []"
   ]
  },
  {
   "cell_type": "code",
   "execution_count": 36,
   "metadata": {},
   "outputs": [
    {
     "name": "stderr",
     "output_type": "stream",
     "text": [
      "  0%|          | 0/1000 [00:00<?, ?it/s]"
     ]
    },
    {
     "name": "stderr",
     "output_type": "stream",
     "text": [
      "100%|██████████| 1000/1000 [03:39<00:00,  4.57it/s]\n"
     ]
    }
   ],
   "source": [
    "t = 0.001     # Temperature of the entropy term\n",
    "\n",
    "loss_value = 0.0\n",
    "loss_policy = 0.0\n",
    "\n",
    "for episode in tqdm(range(1000)):    \n",
    "    obs, _ = env.reset()\n",
    "    done = False\n",
    "    \n",
    "    m_obs = []\n",
    "    m_act = []\n",
    "    m_rew = []\n",
    "    \n",
    "    # Play the game and collect data\n",
    "    while not done:\n",
    "        p = policy(torch.tensor(obs))\n",
    "        action = p.sample().detach().item()\n",
    "    \n",
    "        obs, reward, terminated, truncated, _ = env.step(action)\n",
    "        done = terminated or truncated\n",
    "    \n",
    "        m_obs.append(obs)\n",
    "        m_act.append(action)\n",
    "        m_rew.append(reward)\n",
    "\n",
    "    rews_ep.append(sum(m_rew))\n",
    "    m_obs = torch.tensor(m_obs, requires_grad=False)\n",
    "    m_act = torch.tensor(m_act, requires_grad=False)\n",
    "    m_rew = torch.tensor(m_rew, requires_grad=False)\n",
    "    \n",
    "    \n",
    "    # Calculate the discounted rewards\n",
    "    G = 0\n",
    "    disc_rew = []\n",
    "    for reward in reversed(m_rew):\n",
    "        G = reward + gamma * G\n",
    "        disc_rew.insert(0, G)\n",
    "    \n",
    "    # The gradient of the PG objective\n",
    "    with torch.no_grad():\n",
    "        A = torch.tensor(disc_rew) - value(m_obs)\n",
    "        A = (A - A.mean()) / (A.std() + 1e-8)\n",
    "    log_prob = policy(m_obs).log_prob(m_act)\n",
    "    H = (log_prob * log_prob.exp()).sum()   # Entropy term\n",
    "    loss_policy -= (A * log_prob).sum() + t * H\n",
    "    \n",
    "    # The gradient of the value fn\n",
    "    target = m_rew[:-1] + gamma * value(m_obs[1:])\n",
    "    actual = value(m_obs[:-1])\n",
    "    last_loss = abs(value(m_obs[-1]) - m_rew[-1])   # terminal step\n",
    "    \n",
    "    # Normalize the values\n",
    "    target = (target - target.mean()) / (target.std() + 1e-8)\n",
    "    actual = (actual - actual.mean()) / (actual.std() + 1e-8)\n",
    "    \n",
    "    # if actual.shape != target.shape:      # needed for box obs spaces\n",
    "    #     actual = actual.unsqueeze(0)\n",
    "    loss_value += F.mse_loss(actual, target) + last_loss   \n",
    "\n",
    "    # Optimization\n",
    "    if episode % batch_size == 0 and episode != 0:   \n",
    "        # Value network\n",
    "        optimizer_v.zero_grad()\n",
    "        loss_value.backward()\n",
    "        optimizer_v.step()        \n",
    "        \n",
    "        # Policy Network\n",
    "        optimizer_p.zero_grad()\n",
    "        loss_policy.backward()\n",
    "        optimizer_p.step()\n",
    "\n",
    "        # Reset and log\n",
    "        loss_value = 0.0\n",
    "        loss_policy = 0.0\n",
    "            \n",
    "        rews_log.append(sum(rews_ep) / batch_size)\n",
    "        rews_ep = []"
   ]
  },
  {
   "cell_type": "code",
   "execution_count": 39,
   "metadata": {},
   "outputs": [
    {
     "data": {
      "text/plain": [
       "623.125"
      ]
     },
     "execution_count": 39,
     "metadata": {},
     "output_type": "execute_result"
    },
    {
     "data": {
      "image/png": "[encoded data removed]",
      "text/plain": [
       "<Figure size 640x480 with 1 Axes>"
      ]
     },
     "metadata": {},
     "output_type": "display_data"
    }
   ],
   "source": [
    "plt.plot(rews_log)\n",
    "plt.grid()\n",
    "max(rews_log)"
   ]
  },
  {
   "cell_type": "code",
   "execution_count": 6,
   "metadata": {},
   "outputs": [
    {
     "name": "stdout",
     "output_type": "stream",
     "text": [
      "28\n"
     ]
    }
   ],
   "source": [
    "# Visualization\n",
    "import time\n",
    "from IPython.display import display, clear_output\n",
    "\n",
    "env = gym.make(\"CartPole-v1\", render_mode=\"rgb_array\")\n",
    "obs, _ = env.reset()\n",
    "done = False\n",
    "steps = 0\n",
    "while not done:\n",
    "    steps += 1\n",
    "    p = policy(torch.tensor(obs))\n",
    "    action = p.sample().detach().item()\n",
    "\n",
    "    obs, reward, terminated, truncated, _ = env.step(action)\n",
    "    done = terminated or truncated\n",
    "    \n",
    "    ### Uncomment below for rendering (tested in ipynb)\n",
    "    # a = env.render()\n",
    "    # plt.imshow(a)\n",
    "    # plt.axis('off')  # Turn off axis\n",
    "    # display(plt.gcf())  # Display the current figure\n",
    "    # clear_output(wait=True)  # Clear the previous output\n",
    "print(steps)"
   ]
  }
 ],
 "metadata": {
  "kernelspec": {
   "display_name": "Python 3",
   "language": "python",
   "name": "python3"
  },
  "language_info": {
   "codemirror_mode": {
    "name": "ipython",
    "version": 3
   },
   "file_extension": ".py",
   "mimetype": "text/x-python",
   "name": "python",
   "nbconvert_exporter": "python",
   "pygments_lexer": "ipython3",
   "version": "3.11.4"
  },
  "orig_nbformat": 4
 },
 "nbformat": 4,
 "nbformat_minor": 2
}
