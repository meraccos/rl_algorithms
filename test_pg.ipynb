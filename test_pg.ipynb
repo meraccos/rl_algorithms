{
 "cells": [
  {
   "cell_type": "code",
   "execution_count": 1,
   "metadata": {},
   "outputs": [],
   "source": [
    "import torch \n",
    "import torch.nn as nn\n",
    "import torch.nn.functional as F\n",
    "from torch.distributions.categorical import Categorical\n",
    "import gymnasium as gym"
   ]
  },
  {
   "cell_type": "code",
   "execution_count": 7,
   "metadata": {},
   "outputs": [],
   "source": [
    "class Policy(nn.Module):\n",
    "    def __init__(self, env=None):\n",
    "        super().__init__()\n",
    "        output_dim = env.action_space.n\n",
    "        \n",
    "        self.l1 = nn.Linear(1, 400)\n",
    "        self.l2 = nn.Linear(400, 300)\n",
    "        self.l3 = nn.Linear(300, output_dim)\n",
    "                \n",
    "    def forward(self, x):\n",
    "        x = torch.Tensor([x]).unsqueeze(1)\n",
    "        a = F.relu(self.l1(x))\n",
    "        a = F.relu(self.l2(a))\n",
    "        a = F.relu(self.l3(a))\n",
    "        a = Categorical(logits=a[0])\n",
    "        return a"
   ]
  },
  {
   "cell_type": "code",
   "execution_count": 8,
   "metadata": {},
   "outputs": [],
   "source": [
    "env = gym.make(\"FrozenLake-v1\", is_slippery=False)\n",
    "\n",
    "policy = Policy(env)\n",
    "\n",
    "max_episodes = 1"
   ]
  },
  {
   "cell_type": "code",
   "execution_count": 45,
   "metadata": {},
   "outputs": [],
   "source": [
    "for episode in range(max_episodes):\n",
    "    tau = []\n",
    "    obs, _ = env.reset()\n",
    "    done = False\n",
    "    \n",
    "    while not done:\n",
    "        p = policy(obs)\n",
    "        action = p.sample()\n",
    "        \n",
    "        obs_, reward, terminated, truncated, _ = env.step(action.detach().item())\n",
    "        done = terminated or truncated\n",
    "        \n",
    "        tau.append([obs, action.item(), reward, obs_])\n",
    "        obs = obs_\n",
    "    \n",
    "    # Policy update\n",
    "    \n",
    "    # For now, keep the advantage simple\n",
    "    tau = torch.tensor(tau, requires_grad=False)\n",
    "    A = tau[:, 2].sum()\n",
    "    \n",
    "    log_probs = model\n",
    "    "
   ]
  },
  {
   "cell_type": "code",
   "execution_count": 43,
   "metadata": {},
   "outputs": [
    {
     "name": "stderr",
     "output_type": "stream",
     "text": [
      "/var/folders/4c/420nxr0s45g11w0s57vw676c0000gn/T/ipykernel_46700/434837577.py:1: UserWarning: To copy construct from a tensor, it is recommended to use sourceTensor.clone().detach() or sourceTensor.clone().detach().requires_grad_(True), rather than torch.tensor(sourceTensor).\n",
      "  tau_t = torch.tensor(tau)\n"
     ]
    },
    {
     "data": {
      "text/plain": [
       "tensor([0., 0., 0., 0., 0., 0., 0., 0., 0., 0., 0., 0., 0., 0., 0., 0.])"
      ]
     },
     "execution_count": 43,
     "metadata": {},
     "output_type": "execute_result"
    }
   ],
   "source": [
    "tau_t = torch.tensor(tau)\n",
    "tau_t[:, 2]"
   ]
  },
  {
   "cell_type": "code",
   "execution_count": 88,
   "metadata": {},
   "outputs": [
    {
     "data": {
      "text/plain": [
       "tensor([0.2426, 0.2422, 0.2764, 0.2388], grad_fn=<SoftmaxBackward0>)"
      ]
     },
     "execution_count": 88,
     "metadata": {},
     "output_type": "execute_result"
    }
   ],
   "source": [
    "obs, reward, terminated, truncated, info = env.step(0)\n",
    "\n",
    "obs = torch.Tensor([obs]).unsqueeze(1)\n",
    "p = policy(obs)\n",
    "p.probs"
   ]
  }
 ],
 "metadata": {
  "kernelspec": {
   "display_name": "Python 3",
   "language": "python",
   "name": "python3"
  },
  "language_info": {
   "codemirror_mode": {
    "name": "ipython",
    "version": 3
   },
   "file_extension": ".py",
   "mimetype": "text/x-python",
   "name": "python",
   "nbconvert_exporter": "python",
   "pygments_lexer": "ipython3",
   "version": "3.11.4"
  },
  "orig_nbformat": 4
 },
 "nbformat": 4,
 "nbformat_minor": 2
}
